{
 "cells": [
  {
   "cell_type": "code",
   "execution_count": 42,
   "metadata": {},
   "outputs": [],
   "source": [
    "import folium\n",
    "import streamlit as st \n",
    "from streamlit_folium import st_folium \n",
    "from folium import FeatureGroup  \n",
    "import pandas as pd\n",
    "from datetime import datetime"
   ]
  },
  {
   "cell_type": "code",
   "execution_count": 43,
   "metadata": {},
   "outputs": [],
   "source": [
    "nursery_data = pd.read_csv(\"hoikuen_0317.csv\")\n",
    "bukken_data = pd.read_csv(\"bukken_017.csv\")"
   ]
  },
  {
   "cell_type": "code",
   "execution_count": 44,
   "metadata": {},
   "outputs": [
    {
     "data": {
      "text/html": [
       "<div>\n",
       "<style scoped>\n",
       "    .dataframe tbody tr th:only-of-type {\n",
       "        vertical-align: middle;\n",
       "    }\n",
       "\n",
       "    .dataframe tbody tr th {\n",
       "        vertical-align: top;\n",
       "    }\n",
       "\n",
       "    .dataframe thead th {\n",
       "        text-align: right;\n",
       "    }\n",
       "</style>\n",
       "<table border=\"1\" class=\"dataframe\">\n",
       "  <thead>\n",
       "    <tr style=\"text-align: right;\">\n",
       "      <th></th>\n",
       "      <th>name</th>\n",
       "      <th>main_category</th>\n",
       "      <th>category</th>\n",
       "      <th>price</th>\n",
       "      <th>min_price</th>\n",
       "      <th>max_price</th>\n",
       "      <th>tatemono_measure</th>\n",
       "      <th>min_tatemono_measure</th>\n",
       "      <th>max_tatemono_measure</th>\n",
       "      <th>tochi_measure</th>\n",
       "      <th>...</th>\n",
       "      <th>city</th>\n",
       "      <th>adress</th>\n",
       "      <th>nearest_line</th>\n",
       "      <th>nearest_station</th>\n",
       "      <th>nearest_bus_station</th>\n",
       "      <th>bus_time</th>\n",
       "      <th>walk_time</th>\n",
       "      <th>url</th>\n",
       "      <th>latitude</th>\n",
       "      <th>longitude</th>\n",
       "    </tr>\n",
       "  </thead>\n",
       "  <tbody>\n",
       "    <tr>\n",
       "      <th>0</th>\n",
       "      <td>NaN</td>\n",
       "      <td>NaN</td>\n",
       "      <td>NaN</td>\n",
       "      <td>NaN</td>\n",
       "      <td>NaN</td>\n",
       "      <td>NaN</td>\n",
       "      <td>NaN</td>\n",
       "      <td>NaN</td>\n",
       "      <td>NaN</td>\n",
       "      <td>NaN</td>\n",
       "      <td>...</td>\n",
       "      <td>選択してください</td>\n",
       "      <td>NaN</td>\n",
       "      <td>NaN</td>\n",
       "      <td>NaN</td>\n",
       "      <td>NaN</td>\n",
       "      <td>NaN</td>\n",
       "      <td>NaN</td>\n",
       "      <td>NaN</td>\n",
       "      <td>NaN</td>\n",
       "      <td>NaN</td>\n",
       "    </tr>\n",
       "    <tr>\n",
       "      <th>1</th>\n",
       "      <td>NaN</td>\n",
       "      <td>NaN</td>\n",
       "      <td>NaN</td>\n",
       "      <td>NaN</td>\n",
       "      <td>NaN</td>\n",
       "      <td>NaN</td>\n",
       "      <td>NaN</td>\n",
       "      <td>NaN</td>\n",
       "      <td>NaN</td>\n",
       "      <td>NaN</td>\n",
       "      <td>...</td>\n",
       "      <td>NaN</td>\n",
       "      <td>NaN</td>\n",
       "      <td>NaN</td>\n",
       "      <td>NaN</td>\n",
       "      <td>NaN</td>\n",
       "      <td>NaN</td>\n",
       "      <td>NaN</td>\n",
       "      <td>NaN</td>\n",
       "      <td>NaN</td>\n",
       "      <td>NaN</td>\n",
       "    </tr>\n",
       "    <tr>\n",
       "      <th>2</th>\n",
       "      <td>NaN</td>\n",
       "      <td>NaN</td>\n",
       "      <td>NaN</td>\n",
       "      <td>NaN</td>\n",
       "      <td>NaN</td>\n",
       "      <td>NaN</td>\n",
       "      <td>NaN</td>\n",
       "      <td>NaN</td>\n",
       "      <td>NaN</td>\n",
       "      <td>NaN</td>\n",
       "      <td>...</td>\n",
       "      <td>NaN</td>\n",
       "      <td>NaN</td>\n",
       "      <td>NaN</td>\n",
       "      <td>NaN</td>\n",
       "      <td>NaN</td>\n",
       "      <td>NaN</td>\n",
       "      <td>NaN</td>\n",
       "      <td>NaN</td>\n",
       "      <td>NaN</td>\n",
       "      <td>NaN</td>\n",
       "    </tr>\n",
       "    <tr>\n",
       "      <th>3</th>\n",
       "      <td>NaN</td>\n",
       "      <td>NaN</td>\n",
       "      <td>NaN</td>\n",
       "      <td>NaN</td>\n",
       "      <td>NaN</td>\n",
       "      <td>NaN</td>\n",
       "      <td>NaN</td>\n",
       "      <td>NaN</td>\n",
       "      <td>NaN</td>\n",
       "      <td>NaN</td>\n",
       "      <td>...</td>\n",
       "      <td>NaN</td>\n",
       "      <td>NaN</td>\n",
       "      <td>NaN</td>\n",
       "      <td>NaN</td>\n",
       "      <td>NaN</td>\n",
       "      <td>NaN</td>\n",
       "      <td>NaN</td>\n",
       "      <td>NaN</td>\n",
       "      <td>NaN</td>\n",
       "      <td>NaN</td>\n",
       "    </tr>\n",
       "    <tr>\n",
       "      <th>4</th>\n",
       "      <td>NaN</td>\n",
       "      <td>NaN</td>\n",
       "      <td>NaN</td>\n",
       "      <td>NaN</td>\n",
       "      <td>NaN</td>\n",
       "      <td>NaN</td>\n",
       "      <td>NaN</td>\n",
       "      <td>NaN</td>\n",
       "      <td>NaN</td>\n",
       "      <td>NaN</td>\n",
       "      <td>...</td>\n",
       "      <td>NaN</td>\n",
       "      <td>NaN</td>\n",
       "      <td>NaN</td>\n",
       "      <td>NaN</td>\n",
       "      <td>NaN</td>\n",
       "      <td>NaN</td>\n",
       "      <td>NaN</td>\n",
       "      <td>NaN</td>\n",
       "      <td>NaN</td>\n",
       "      <td>NaN</td>\n",
       "    </tr>\n",
       "  </tbody>\n",
       "</table>\n",
       "<p>5 rows × 31 columns</p>\n",
       "</div>"
      ],
      "text/plain": [
       "  name main_category category price  min_price  max_price tatemono_measure  \\\n",
       "0  NaN           NaN      NaN   NaN        NaN        NaN              NaN   \n",
       "1  NaN           NaN      NaN   NaN        NaN        NaN              NaN   \n",
       "2  NaN           NaN      NaN   NaN        NaN        NaN              NaN   \n",
       "3  NaN           NaN      NaN   NaN        NaN        NaN              NaN   \n",
       "4  NaN           NaN      NaN   NaN        NaN        NaN              NaN   \n",
       "\n",
       "   min_tatemono_measure  max_tatemono_measure tochi_measure  ...      city  \\\n",
       "0                   NaN                   NaN           NaN  ...  選択してください   \n",
       "1                   NaN                   NaN           NaN  ...       NaN   \n",
       "2                   NaN                   NaN           NaN  ...       NaN   \n",
       "3                   NaN                   NaN           NaN  ...       NaN   \n",
       "4                   NaN                   NaN           NaN  ...       NaN   \n",
       "\n",
       "   adress nearest_line nearest_station nearest_bus_station bus_time walk_time  \\\n",
       "0     NaN          NaN             NaN                 NaN      NaN       NaN   \n",
       "1     NaN          NaN             NaN                 NaN      NaN       NaN   \n",
       "2     NaN          NaN             NaN                 NaN      NaN       NaN   \n",
       "3     NaN          NaN             NaN                 NaN      NaN       NaN   \n",
       "4     NaN          NaN             NaN                 NaN      NaN       NaN   \n",
       "\n",
       "   url  latitude longitude  \n",
       "0  NaN       NaN       NaN  \n",
       "1  NaN       NaN       NaN  \n",
       "2  NaN       NaN       NaN  \n",
       "3  NaN       NaN       NaN  \n",
       "4  NaN       NaN       NaN  \n",
       "\n",
       "[5 rows x 31 columns]"
      ]
     },
     "execution_count": 44,
     "metadata": {},
     "output_type": "execute_result"
    }
   ],
   "source": [
    "bukken_data.head()"
   ]
  },
  {
   "cell_type": "code",
   "execution_count": 45,
   "metadata": {},
   "outputs": [
    {
     "name": "stdout",
     "output_type": "stream",
     "text": [
      "<class 'pandas.core.frame.DataFrame'>\n",
      "RangeIndex: 1974 entries, 0 to 1973\n",
      "Data columns (total 31 columns):\n",
      " #   Column                Non-Null Count  Dtype  \n",
      "---  ------                --------------  -----  \n",
      " 0   name                  1905 non-null   object \n",
      " 1   main_category         1905 non-null   object \n",
      " 2   category              1905 non-null   object \n",
      " 3   price                 1905 non-null   object \n",
      " 4   min_price             1892 non-null   float64\n",
      " 5   max_price             1890 non-null   float64\n",
      " 6   tatemono_measure      1816 non-null   object \n",
      " 7   min_tatemono_measure  1815 non-null   float64\n",
      " 8   max_tatemono_measure  1815 non-null   float64\n",
      " 9   tochi_measure         966 non-null    object \n",
      " 10  min_tochi_measure     966 non-null    float64\n",
      " 11  max_tochi_measure     966 non-null    float64\n",
      " 12  madori                1816 non-null   object \n",
      " 13  main_madori           1816 non-null   object \n",
      " 14  min_madori            1816 non-null   object \n",
      " 15  max_madori            1816 non-null   object \n",
      " 16  hikiwatashi           1816 non-null   object \n",
      " 17  kanseijiki            1803 non-null   object \n",
      " 18  floor                 926 non-null    float64\n",
      " 19  building              1802 non-null   object \n",
      " 20  prefecture            1974 non-null   object \n",
      " 21  city                  1928 non-null   object \n",
      " 22  adress                1905 non-null   object \n",
      " 23  nearest_line          1905 non-null   object \n",
      " 24  nearest_station       1905 non-null   object \n",
      " 25  nearest_bus_station   39 non-null     object \n",
      " 26  bus_time              40 non-null     object \n",
      " 27  walk_time             1905 non-null   float64\n",
      " 28  url                   1905 non-null   object \n",
      " 29  latitude              1905 non-null   float64\n",
      " 30  longitude             1905 non-null   float64\n",
      "dtypes: float64(10), object(21)\n",
      "memory usage: 478.2+ KB\n"
     ]
    }
   ],
   "source": [
    "bukken_data.info()"
   ]
  },
  {
   "cell_type": "code",
   "execution_count": 46,
   "metadata": {},
   "outputs": [],
   "source": [
    "bukken_data['kanseijiki'] = bukken_data['kanseijiki'].str.strip('予定')\n",
    "bukken_data['kanseijiki'] = bukken_data['kanseijiki'].str.strip('上旬')\n",
    "bukken_data['kanseijiki'] = bukken_data['kanseijiki'].str.strip('下旬')\n",
    "bukken_data['kanseijiki'] = bukken_data['kanseijiki'].str.strip('末')"
   ]
  },
  {
   "cell_type": "code",
   "execution_count": 47,
   "metadata": {},
   "outputs": [
    {
     "data": {
      "text/plain": [
       "0    NaN\n",
       "1    NaN\n",
       "2    NaN\n",
       "3    NaN\n",
       "4    NaN\n",
       "Name: kanseijiki, dtype: object"
      ]
     },
     "execution_count": 47,
     "metadata": {},
     "output_type": "execute_result"
    }
   ],
   "source": [
    "bukken_data['kanseijiki'].head()"
   ]
  },
  {
   "cell_type": "code",
   "execution_count": 48,
   "metadata": {},
   "outputs": [],
   "source": [
    "# 年と月に分割して新しい列を作成\n",
    "bukken_data[['year', 'month']] = bukken_data['kanseijiki'].str.split('年|月', expand=True)[[0, 1]]"
   ]
  },
  {
   "cell_type": "code",
   "execution_count": 49,
   "metadata": {},
   "outputs": [],
   "source": [
    "# 年と月を結合して日付を作成\n",
    "bukken_data['date'] = pd.to_datetime(bukken_data['year'] + bukken_data['month'], format='%Y%m')\n",
    "bukken_data['chiku_nissu'] = bukken_data['date'].apply(lambda x:(datetime.today() - x).days)\n",
    "bukken_data['chiku_nensu'] = bukken_data['chiku_nissu']/365.25\n"
   ]
  },
  {
   "cell_type": "code",
   "execution_count": 50,
   "metadata": {},
   "outputs": [],
   "source": [
    "bukken_data['chiku_nensu']= round(bukken_data['chiku_nensu'])\n"
   ]
  },
  {
   "cell_type": "code",
   "execution_count": 51,
   "metadata": {},
   "outputs": [
    {
     "data": {
      "text/plain": [
       "0   NaN\n",
       "1   NaN\n",
       "2   NaN\n",
       "3   NaN\n",
       "4   NaN\n",
       "Name: chiku_nennsu, dtype: float64"
      ]
     },
     "execution_count": 51,
     "metadata": {},
     "output_type": "execute_result"
    }
   ],
   "source": [
    "bukken_data['chiku_nensu'].head()"
   ]
  },
  {
   "cell_type": "code",
   "execution_count": 52,
   "metadata": {},
   "outputs": [],
   "source": [
    "years = bukken_data.dropna(subset=['kanseijiki'])"
   ]
  },
  {
   "cell_type": "code",
   "execution_count": null,
   "metadata": {},
   "outputs": [],
   "source": []
  },
  {
   "cell_type": "code",
   "execution_count": 53,
   "metadata": {},
   "outputs": [],
   "source": [
    "min_chikunensu = int(years['chiku_nensu'].min())\n",
    "max_chikunensu = int(years['chiku_nensu'].max())\n"
   ]
  },
  {
   "cell_type": "code",
   "execution_count": 54,
   "metadata": {},
   "outputs": [
    {
     "name": "stdout",
     "output_type": "stream",
     "text": [
      "-1\n"
     ]
    }
   ],
   "source": [
    "print(min_chikunensu)"
   ]
  },
  {
   "cell_type": "code",
   "execution_count": 55,
   "metadata": {},
   "outputs": [
    {
     "name": "stdout",
     "output_type": "stream",
     "text": [
      "63\n"
     ]
    }
   ],
   "source": [
    "print(max_chikunensu)"
   ]
  },
  {
   "cell_type": "code",
   "execution_count": 56,
   "metadata": {},
   "outputs": [],
   "source": [
    "min_year, max_year = st.slider(\"築年数\",min_chikunensu, max_chikunensu, (0, 5), step=1)  "
   ]
  },
  {
   "cell_type": "code",
   "execution_count": 57,
   "metadata": {},
   "outputs": [],
   "source": [
    "bukken_data.to_excel(\"0322test.xlsx\", index=None)"
   ]
  },
  {
   "cell_type": "code",
   "execution_count": null,
   "metadata": {},
   "outputs": [],
   "source": []
  },
  {
   "cell_type": "code",
   "execution_count": null,
   "metadata": {},
   "outputs": [],
   "source": []
  }
 ],
 "metadata": {
  "kernelspec": {
   "display_name": "base",
   "language": "python",
   "name": "python3"
  },
  "language_info": {
   "codemirror_mode": {
    "name": "ipython",
    "version": 3
   },
   "file_extension": ".py",
   "mimetype": "text/x-python",
   "name": "python",
   "nbconvert_exporter": "python",
   "pygments_lexer": "ipython3",
   "version": "3.9.13"
  },
  "orig_nbformat": 4
 },
 "nbformat": 4,
 "nbformat_minor": 2
}
